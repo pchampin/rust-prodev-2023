{
 "cells": [
  {
   "cell_type": "markdown",
   "metadata": {
    "editable": true,
    "slideshow": {
     "slide_type": "slide"
    },
    "tags": []
   },
   "source": [
    "# 🦀 Rust\n",
    "\n",
    "## Un langage de programmation système de haut niveau\n",
    "\n",
    "\n",
    "[Pierre-Antoine Champin](https://champin.net/)\n",
    "\n",
    "[Inria](https://team.inria.fr/wimmics/) – [W3C](https://www.w3.org/)"
   ]
  },
  {
   "cell_type": "markdown",
   "metadata": {
    "editable": true,
    "slideshow": {
     "slide_type": "slide"
    },
    "tags": []
   },
   "source": [
    "## Rust en deux mots\n",
    "\n",
    "Rust est un langage compilé, fortement typé, open-source,\n",
    "mettant l'accent sur\n",
    "\n",
    "* la performance\n",
    "* la fiabilité\n",
    "* la productivité\n",
    "\n",
    "ainsi que sur la gestion sûre de la mémoire et du parallélisme.\n",
    "\n",
    "https://rust-lang.org"
   ]
  },
  {
   "cell_type": "markdown",
   "metadata": {
    "editable": true,
    "slideshow": {
     "slide_type": "subslide"
    },
    "tags": []
   },
   "source": [
    "### Historique\n",
    "\n",
    "* 2006: Graydon Hoare commence à travailler sur Rust\n",
    "* 2009: Mozilla adopte le projet\n",
    "* 2015: Version 1.0 du compilateur\n",
    "* 2021: Création de la [Fondation Rust](https://foundation.rust-lang.org/)\n",
    "\n",
    "L'objectif de Rust n'est *pas* d'être innovant,\n",
    "mais au contraire de s'appuyer sur des concepts anciens (\"rouillés\") et éprouvés.\n",
    "\n",
    "(même si certains n'ont pas été déployés de façon *mainstream*)"
   ]
  },
  {
   "cell_type": "markdown",
   "metadata": {
    "slideshow": {
     "slide_type": "slide"
    }
   },
   "source": [
    "## Sémantique des affectations"
   ]
  },
  {
   "cell_type": "code",
   "execution_count": 2,
   "metadata": {
    "editable": true,
    "slideshow": {
     "slide_type": ""
    },
    "tags": []
   },
   "outputs": [
    {
     "name": "stdout",
     "output_type": "stream",
     "text": [
      "v1 = [22, 44, 66]\n",
      "v2 = [22, 44, 66]\n"
     ]
    }
   ],
   "source": [
    "let v1: Vec<i32> = vec![22, 44, 66];\n",
    "println!(\"v1 = {:?}\", &v1);\n",
    "let v2 = v1;\n",
    "println!(\"v2 = {:?}\", &v2);\n",
    "\n",
    "//println!(\"v1 = {:?}\", &v1);"
   ]
  },
  {
   "cell_type": "markdown",
   "metadata": {
    "editable": true,
    "slideshow": {
     "slide_type": "subslide"
    },
    "tags": []
   },
   "source": [
    "* Dans la plupart des langages de programmation,\n",
    "l'affectation a une sémantique de **copie**.\n",
    "\n",
    "  + Après l'affectation, v1 et v2 contiennent « la même chose ».\n",
    "     \n",
    "\n",
    "\n",
    "* En Rust, l'affectation a *par défaut* une sémantique de **déplacement** (*move*).\n",
    "\n",
    "  + Conceptuellement, l'affectation *déplace* la valeur de v1 dans v2.\n",
    "  + Après l'affectation, v1 est considérée comme non-initialisée."
   ]
  },
  {
   "cell_type": "markdown",
   "metadata": {
    "editable": true,
    "slideshow": {
     "slide_type": "subslide"
    },
    "tags": []
   },
   "source": [
    "### Pourquoi est-ce une bonne chose ?"
   ]
  },
  {
   "cell_type": "code",
   "execution_count": 3,
   "metadata": {},
   "outputs": [],
   "source": [
    "let v1: Vec<i32> = vec![22, 44, 66];"
   ]
  },
  {
   "cell_type": "markdown",
   "metadata": {
    "editable": true,
    "slideshow": {
     "slide_type": ""
    },
    "tags": []
   },
   "source": [
    "<div style=\"text-align: center\">\n",
    "<img alt=\"String en mémoire\" src=\"images/trpl04-01.svg\" style=\"display: inline; width: 20em;\">\n",
    "</div>"
   ]
  },
  {
   "cell_type": "code",
   "execution_count": 4,
   "metadata": {
    "slideshow": {
     "slide_type": "subslide"
    }
   },
   "outputs": [],
   "source": [
    "let v1: Vec<i32> = vec![22, 44, 66];\n",
    "let v2 = v1;\n",
    "// Si Rust avait une sémantique de copie :"
   ]
  },
  {
   "cell_type": "markdown",
   "metadata": {
    "editable": true,
    "slideshow": {
     "slide_type": ""
    },
    "tags": []
   },
   "source": [
    "<div style=\"text-align: center\"> <img alt=\"Shallow copy\" src=\"images/trpl04-02.svg\" style=\"display: inline; width: 20em;\"> </div>"
   ]
  },
  {
   "cell_type": "code",
   "execution_count": 5,
   "metadata": {
    "slideshow": {
     "slide_type": "subslide"
    }
   },
   "outputs": [],
   "source": [
    "let v1: Vec<i32> = vec![22, 44, 66];\n",
    "let mut v2 = v1;\n",
    "v2.push(88);\n",
    "v2.push(99);\n",
    "// Si Rust avait une sémantique de copie :"
   ]
  },
  {
   "cell_type": "markdown",
   "metadata": {
    "editable": true,
    "slideshow": {
     "slide_type": ""
    },
    "tags": []
   },
   "source": [
    "<div style=\"text-align: center\"> <img alt=\"Shallow copy\" src=\"images/trpl04-02bis.svg\" style=\"display: inline; width: 20em;\"> </div>"
   ]
  },
  {
   "cell_type": "code",
   "execution_count": 6,
   "metadata": {
    "editable": true,
    "slideshow": {
     "slide_type": "subslide"
    },
    "tags": []
   },
   "outputs": [],
   "source": [
    "let v1: Vec<i32> = vec![22, 44, 66];\n",
    "let v2 = v1;\n",
    "// Avec la sémantique de déplacement de Rust"
   ]
  },
  {
   "cell_type": "markdown",
   "metadata": {
    "editable": true,
    "slideshow": {
     "slide_type": ""
    },
    "tags": []
   },
   "source": [
    "<div style=\"text-align: center\"> <img alt=\"Shallow copy\" src=\"images/trpl04-04pa.svg\" style=\"display: inline; width: 20em;\"> </div>"
   ]
  },
  {
   "cell_type": "markdown",
   "metadata": {
    "slideshow": {
     "slide_type": "subslide"
    }
   },
   "source": [
    "### Copie (profonde) explicite"
   ]
  },
  {
   "cell_type": "code",
   "execution_count": 7,
   "metadata": {
    "slideshow": {
     "slide_type": "-"
    }
   },
   "outputs": [
    {
     "name": "stdout",
     "output_type": "stream",
     "text": [
      "v1=[22, 44, 66] v2=[22, 44, 66]\n"
     ]
    }
   ],
   "source": [
    "let v1: Vec<i32> = vec![22, 44, 66];\n",
    "let v2 = v1.clone();\n",
    "println!(\"v1={:?} v2={:?}\", &v1, &v2);"
   ]
  },
  {
   "cell_type": "markdown",
   "metadata": {
    "editable": true,
    "slideshow": {
     "slide_type": ""
    },
    "tags": []
   },
   "source": [
    "<div style=\"text-align: center\">\n",
    "<img alt=\"Copie profonde\" src=\"images/trpl04-03.svg\" style=\"display: inline; width: 20em;\">\n",
    "</div>"
   ]
  },
  {
   "cell_type": "markdown",
   "metadata": {
    "slideshow": {
     "slide_type": "subslide"
    }
   },
   "source": [
    "### Copie implicite\n",
    "\n",
    "Bien que la sémantique *move* soit la règle,\n",
    "il existe des exceptions.\n",
    "\n",
    "En particulier, les affectations pour tous les types de base (entiers, flottants, booléens...)\n",
    "ont la sémantique *copy*,\n",
    "car le compilateur sait que cette copie est sûre (*safe*)."
   ]
  },
  {
   "cell_type": "code",
   "execution_count": 8,
   "metadata": {},
   "outputs": [
    {
     "name": "stdout",
     "output_type": "stream",
     "text": [
      "x=42 y=42\n"
     ]
    }
   ],
   "source": [
    "let x = 42;\n",
    "let y = x; // copy instead of move\n",
    "println!(\"x={} y={}\", x, y);"
   ]
  },
  {
   "cell_type": "markdown",
   "metadata": {
    "slideshow": {
     "slide_type": "fragment"
    }
   },
   "source": [
    "Plus généralement,\n",
    "tout type implémentant le [trait `Copy`](https://doc.rust-lang.org/stable/std/marker/trait.Copy.html)\n",
    "utilise la sémantique *copy*.\n",
    "\n",
    "Il est possible de faite implémenter `Copy` aux types définis par nous, mais ce n'est pas toujours possible ni judicieux (example : le type `Vec`)."
   ]
  },
  {
   "cell_type": "markdown",
   "metadata": {
    "editable": true,
    "slideshow": {
     "slide_type": "slide"
    },
    "tags": []
   },
   "source": [
    "## Propriété (*ownership*)\n",
    "\n",
    "* Toute donnée est la **propriété** d'exactement une variable (ou champ de structure).\n",
    "\n",
    "* Conceptuellement, l'affectation d'une variable à une autre **déplace** (*move*) les données,\n",
    "  et **transfère** la propriété à la nouvelle variable.\n",
    "  \n",
    "* Lorsqu'une variable disparait,\n",
    "  (i.e. lorsqu'on quitte son scope),\n",
    "  si elle est encore propriétaire de ses données,\n",
    "  celles-ci sont **libérées**."
   ]
  },
  {
   "cell_type": "markdown",
   "metadata": {
    "editable": true,
    "slideshow": {
     "slide_type": "subslide"
    },
    "tags": []
   },
   "source": [
    "<div style=\"text-align: center\">\n",
    "<img alt=\"String en mémoire\" src=\"images/trpl04-01.svg\" style=\"display: inline; width: 20em;\">\n",
    "</div>"
   ]
  },
  {
   "cell_type": "markdown",
   "metadata": {},
   "source": [
    "* la variable *v1* est propriétaire du bloc de gauche\n",
    "* le champ *ptr* du bloc de gauche est propriétaire du bloc de droite\n",
    "\n",
    "\n",
    "* lorsque *v1* disparait, on libère le bloc de gauche, ce qui entraîne la libération du bloc de droite."
   ]
  },
  {
   "cell_type": "code",
   "execution_count": 9,
   "metadata": {
    "slideshow": {
     "slide_type": "subslide"
    }
   },
   "outputs": [
    {
     "name": "stdout",
     "output_type": "stream",
     "text": [
      "v3=[1, 1, 2, 3, 5, 8, 13]\n",
      "la somme des 7 premiers termes vaut 33\n"
     ]
    }
   ],
   "source": [
    "fn fibo(nb: usize) -> Vec<i32> {\n",
    "    let mut v1 = vec![];                  // 1. Le vecteur est créé ici\n",
    "    for i in 0..nb {\n",
    "        if i < 2 { v1.push(1); }\n",
    "        else     { v1.push(v1[i-2] + v1[i-1]); }\n",
    "    }\n",
    "    v1                                    // 2. Sa propriété est transmise au code appelent\n",
    "}\n",
    "\n",
    "fn somme(v2: Vec<i32>) -> i32 {\n",
    "    v2.into_iter().sum()\n",
    "}                                         // 5. La variable 'v2' arrive au bout de son scope,\n",
    "                                          //    et elle possède toujours le vecteur,\n",
    "                                          //    qui est donc libéré.\n",
    "\n",
    "{ \n",
    "    let n = 7;\n",
    "    let mut v3 = fibo(n);                 // 3. Le vecteur est récupérée depuis la fonc. fibo\n",
    "    println!(\"v3={:?}\", &v3);\n",
    "    let s = somme(v3);                    // 4. Le vecteur est transférée à la fonc. somme\n",
    "    println!(\"la somme des {} premiers termes vaut {}\", n, s);\n",
    "    // println!(\"{:?}\", &v3); // NE COMPILE PAS\n",
    "};"
   ]
  },
  {
   "cell_type": "markdown",
   "metadata": {
    "slideshow": {
     "slide_type": "subslide"
    }
   },
   "source": [
    "En C, C++, ...\n",
    "- la libération des données du vecteur est de la responsabilité du développeur,\n",
    "- ce qui peut donner lieu à des erreurs (mémoire libérée trop tôt, trop tard, jamais...).\n",
    "\n",
    "En Java, Python, ...\n",
    "- le ramasse-miettes (*garbage collector*) se charge de libérer la mémoire lorsqu'elle n'est plus utilisée,\n",
    "- ce qui peut entraîner des problèmes de performances."
   ]
  },
  {
   "cell_type": "markdown",
   "metadata": {
    "slideshow": {
     "slide_type": "subslide"
    }
   },
   "source": [
    "En Rust\n",
    "- la notion de propriété permet au compilateur de savoir où dans le programme insérer les instructions de libération de la mémoire\n",
    "- → performant et sûr."
   ]
  },
  {
   "cell_type": "markdown",
   "metadata": {
    "slideshow": {
     "slide_type": "slide"
    }
   },
   "source": [
    "## Emprunts (*borrow*)\n",
    "\n",
    "* Dans certaines situations, on souhaite passer une valeur *sans* transférer sa propriété\n",
    "* On parle alors d'**emprunt**"
   ]
  },
  {
   "cell_type": "code",
   "execution_count": 10,
   "metadata": {
    "slideshow": {
     "slide_type": "subslide"
    }
   },
   "outputs": [
    {
     "ename": "Error",
     "evalue": "borrow of moved value: `v3`",
     "output_type": "error",
     "traceback": [
      "    let s = somme(v3);",
      "\u001b[91m                  ^^\u001b[0m \u001b[94mvalue moved here\u001b[0m",
      "    println!(\"{:?}\", &v3);",
      "\u001b[91m                     ^^^\u001b[0m \u001b[94mvalue borrowed here after move\u001b[0m",
      "    let mut v3 = fibo(n);",
      "\u001b[91m        ^^^^^^\u001b[0m \u001b[94mmove occurs because `v3` has type `Vec<i32>`, which does not implement the `Copy` trait\u001b[0m",
      "borrow of moved value: `v3`",
      "\u001b[1mhelp\u001b[0m: consider cloning the value if the performance cost is acceptable\n\n.clone()"
     ]
    }
   ],
   "source": [
    "fn fibo(nb: usize) -> Vec<i32> {\n",
    "    let mut v1 = vec![];\n",
    "    for i in 0..nb {\n",
    "        if i < 2 { v1.push(1); }\n",
    "        else     { v1.push(v1[i-2] + v1[i-1]); }\n",
    "    }\n",
    "    v1\n",
    "}\n",
    "\n",
    "fn somme(v2: Vec<i32>) -> i32 {\n",
    "    v2.into_iter().sum()\n",
    "}\n",
    "\n",
    "{ \n",
    "    let n = 7;\n",
    "    let mut v3 = fibo(n);\n",
    "    println!(\"v3={:?}\", &v3);\n",
    "    let s = somme(v3);\n",
    "    println!(\"la somme des {} premiers termes vaut {}\", n, s);\n",
    "    println!(\"{:?}\", &v3);\n",
    "};"
   ]
  },
  {
   "cell_type": "markdown",
   "metadata": {
    "slideshow": {
     "slide_type": "subslide"
    }
   },
   "source": [
    "Pour tout type `T`, les variables de type `&T` sont des **références** vers un `T`.\n",
    "\n",
    "* Physiquement, les références sont des pointeurs.\n",
    "* Conceptuellement, les références ne *possèdent pas* les données vers lesquelles elles pointent,\n",
    "* La disparition de la référence n'entraîne donc pas la libération des données.\n"
   ]
  },
  {
   "cell_type": "markdown",
   "metadata": {
    "editable": true,
    "slideshow": {
     "slide_type": ""
    },
    "tags": []
   },
   "source": [
    "<div style=\"text-align: center\">\n",
    "<img alt=\"String en mémoire\" src=\"images/trpl04-05pa.svg\" style=\"display: inline; width: 30em;\">\n",
    "</div>"
   ]
  },
  {
   "cell_type": "markdown",
   "metadata": {
    "editable": true,
    "slideshow": {
     "slide_type": "subslide"
    },
    "tags": []
   },
   "source": [
    "* En conséquence, plusieurs références vers les même données peuvent *co-exister*."
   ]
  },
  {
   "cell_type": "code",
   "execution_count": 11,
   "metadata": {
    "slideshow": {
     "slide_type": "-"
    }
   },
   "outputs": [
    {
     "name": "stdout",
     "output_type": "stream",
     "text": [
      "v1=[22, 44, 66] v2=[22, 44, 66] v3=[22, 44, 66]\n",
      "v1=[22, 44, 66]\n"
     ]
    }
   ],
   "source": [
    "let mut v1: Vec<i32> = vec![22, 44, 66];\n",
    "{\n",
    "    let v2 = &v1;\n",
    "    let v3 = &v1;\n",
    "    println!(\"v1={:?} v2={:?} v3={:?}\", &v1, &v2, &v3);\n",
    "}\n",
    "println!(\"v1={:?}\", &v1);"
   ]
  },
  {
   "cell_type": "markdown",
   "metadata": {
    "slideshow": {
     "slide_type": "subslide"
    }
   },
   "source": [
    "NB : Les références de type `&T` sont immutables."
   ]
  },
  {
   "cell_type": "code",
   "execution_count": 12,
   "metadata": {},
   "outputs": [
    {
     "name": "stdout",
     "output_type": "stream",
     "text": [
      "v1=[22, 44] v2=[22, 44]\n",
      "v1=[22, 44, 88]\n"
     ]
    }
   ],
   "source": [
    "let mut v1: Vec<i32> = vec![22];\n",
    "v1.push(44);\n",
    "{\n",
    "    let v2 = &v1;\n",
    "    // v2.push(66); // NE COMPILE PAS\n",
    "    println!(\"v1={:?} v2={:?}\", &v1, &v2);\n",
    "}\n",
    "v1.push(88);\n",
    "println!(\"v1={:?}\", &v1);"
   ]
  },
  {
   "cell_type": "markdown",
   "metadata": {
    "slideshow": {
     "slide_type": "subslide"
    }
   },
   "source": [
    "Pour que l'exemple ci-dessus fonctionne, il faut utiliser une **référence mutable**,\n",
    "de type `&mut T`."
   ]
  },
  {
   "cell_type": "code",
   "execution_count": 13,
   "metadata": {
    "slideshow": {
     "slide_type": "-"
    }
   },
   "outputs": [
    {
     "name": "stdout",
     "output_type": "stream",
     "text": [
      "v1=[22, 44, 66, 88]\n"
     ]
    }
   ],
   "source": [
    "let mut v1: Vec<i32> = vec![22];\n",
    "v1.push(44);\n",
    "{\n",
    "    let v2 = &mut v1;\n",
    "    v2.push(66);\n",
    "}\n",
    "v1.push(88);\n",
    "println!(\"v1={:?}\", &v1);"
   ]
  },
  {
   "cell_type": "markdown",
   "metadata": {
    "slideshow": {
     "slide_type": "subslide"
    }
   },
   "source": [
    "### Règles sur les références"
   ]
  },
  {
   "cell_type": "markdown",
   "metadata": {},
   "source": [
    "On ne peut pas avoir en même temps\n",
    "\n",
    "* plusieurs références mutables, ni\n",
    "* une référence mutable et une (ou plusieurs) référence(s) immutable(s).\n",
    "\n",
    "En effet, il faut éviter\n",
    "\n",
    "* que deux parties du code modifient les mêmes données simultanément, et\n",
    "* qu'une partie du code lise des données en cours de modification."
   ]
  },
  {
   "cell_type": "code",
   "execution_count": 14,
   "metadata": {
    "slideshow": {
     "slide_type": "subslide"
    }
   },
   "outputs": [
    {
     "name": "stdout",
     "output_type": "stream",
     "text": [
      "v2=[22, 44]\n",
      "v1=[22, 44, 88]\n"
     ]
    }
   ],
   "source": [
    "let mut v1: Vec<i32> = vec![22];\n",
    "v1.push(44);\n",
    "{\n",
    "    let v2 = &mut v1;\n",
    "    //v1.push(66); // NE COMPILE PAS\n",
    "    //let v3 = &v1; // NE COMPILE PAS\n",
    "    println!(\"v2={:?}\", &v2);\n",
    "}\n",
    "v1.push(88);\n",
    "println!(\"v1={:?}\", &v1);"
   ]
  },
  {
   "cell_type": "markdown",
   "metadata": {
    "editable": true,
    "slideshow": {
     "slide_type": "subslide"
    },
    "tags": []
   },
   "source": [
    "### Différence conceptuelle entre référence et pointeur\n"
   ]
  },
  {
   "cell_type": "code",
   "execution_count": 15,
   "metadata": {},
   "outputs": [
    {
     "data": {
      "text/plain": [
       "true"
      ]
     },
     "execution_count": 15,
     "metadata": {},
     "output_type": "execute_result"
    }
   ],
   "source": [
    "let a = 42;\n",
    "let b = 41 + 1;\n",
    "let test = (&a == &b);\n",
    "test"
   ]
  },
  {
   "cell_type": "markdown",
   "metadata": {
    "editable": true,
    "slideshow": {
     "slide_type": ""
    },
    "tags": []
   },
   "source": [
    "* La « valeur » d'une référence n'est **pas** l'adresse en mémoire, c'est la valeur pointée.\n",
    "\n",
    "    * Ne pas penser `&T` comme « un pointeur vers un `T` » mais comme « un `T` emprunté à quelqu'un d'autre ».\n",
    "    * `T` et `&T` restent malgré tout deux types différents...\n",
    "\n",
    "* En Rust, une référence n'est **jamais** un pointeur null."
   ]
  },
  {
   "cell_type": "markdown",
   "metadata": {
    "editable": true,
    "slideshow": {
     "slide_type": "slide"
    },
    "tags": []
   },
   "source": [
    "## Conclusion\n",
    "\n",
    "Les concepts de **propriété** et d'**emprunt** permettent au compilateur Rust\n",
    "\n",
    "* de garantir une gestion sûre et performante de la mémoire,\n",
    "* mais également du parallélisme."
   ]
  }
 ],
 "metadata": {
  "celltoolbar": "Slideshow",
  "kernelspec": {
   "display_name": "Rust",
   "language": "rust",
   "name": "rust"
  },
  "language_info": {
   "codemirror_mode": "rust",
   "file_extension": ".rs",
   "mimetype": "text/rust",
   "name": "Rust",
   "pygment_lexer": "rust",
   "version": ""
  }
 },
 "nbformat": 4,
 "nbformat_minor": 4
}
